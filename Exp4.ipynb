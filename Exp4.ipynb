{
 "cells": [
  {
   "cell_type": "markdown",
   "id": "a6f61dc3-0373-4185-ac2d-2baac94d31a4",
   "metadata": {},
   "source": [
    "### Title :- Linear Algebra Tensors Tensor arithmetic Implementing matrix multiplication."
   ]
  },
  {
   "cell_type": "markdown",
   "id": "06707c7b-e42f-4c09-9b42-3d5e23e7ec6f",
   "metadata": {},
   "source": [
    "Step 1) Tensors and Tensor Arithmetic: \n",
    "\n",
    "Tensors are multi-dimensional arrays. In the context of linear algebra, vectors are 1-dimensional tensors, \r\n",
    "matrices are 2-dimensional tensors, and so on. \r\n"
   ]
  },
  {
   "cell_type": "code",
   "execution_count": 3,
   "id": "b1acbaf0-e46b-4522-8fdb-d6daf173e965",
   "metadata": {},
   "outputs": [
    {
     "name": "stdout",
     "output_type": "stream",
     "text": [
      "addition  [5 7 9]\n",
      "subtraction  [-3 -3 -3]\n",
      "multiplication  [ 4 10 18]\n",
      "division  [0.25 0.4  0.5 ]\n"
     ]
    }
   ],
   "source": [
    "import numpy as np\n",
    "\n",
    "# Creating tensors (arrays) using NumPy\n",
    "# 1-D tensor (vector) \n",
    "vector = np.array([1, 2, 3])\n",
    "\n",
    "# 2-D tensor (matrix) \n",
    "matrix = np.array([[1, 2], [3, 4]])\n",
    "\n",
    "# 3-D tensor \n",
    "tensor_3d = np.array([[[1, 2], [3, 4]], [[5, 6], [7, 8]]])\n",
    "\n",
    "# Tensor arithmetic (element-wise operations) \n",
    "a = np.array([1, 2, 3])\n",
    "b = np.array([4, 5, 6])\n",
    "\n",
    "addition = a + b \n",
    "print(\"addition \", addition)\n",
    "subtraction = a - b \n",
    "print(\"subtraction \", subtraction)\n",
    "elementwise_multiplication = a * b\n",
    "print(\"multiplication \", elementwise_multiplication)\n",
    "elementwise_division = a/b\n",
    "print(\"division \", elementwise_division)"
   ]
  },
  {
   "cell_type": "markdown",
   "id": "41cd1239-5651-4db1-88a6-235c66f8dd36",
   "metadata": {},
   "source": [
    "Step 2) Implementing Matrix Multiplication:\n",
    "\n",
    "Matrix multiplication is a fundamental operation in linear algebra. In NumPy, you can use the `dot()` \r\n",
    "function or `@` operator to perform matrix multiplication. "
   ]
  },
  {
   "cell_type": "code",
   "execution_count": 7,
   "id": "1e6ba64b-e8cd-48b7-9500-0d13a801f2bd",
   "metadata": {},
   "outputs": [
    {
     "name": "stdout",
     "output_type": "stream",
     "text": [
      "Dot \n",
      " [[19 22]\n",
      " [43 50]]\n",
      "@ operator\n",
      " [[19 22]\n",
      " [43 50]]\n"
     ]
    }
   ],
   "source": [
    "import numpy as np\n",
    "\n",
    "# Matrix multiplication using dot() function \n",
    "matrix_a = np.array([[1, 2], [3, 4]]) \n",
    "matrix_b = np.array([[5, 6], [7, 8]])\n",
    "\n",
    "# Option 1: Use dot() function \n",
    "matrix_product = np.dot (matrix_a, matrix_b) \n",
    "print(\"Dot \\n\", matrix_product)\n",
    "\n",
    "# Option 2: Use @ operator (Python 3.5+) \n",
    "matrix_product = matrix_a @ matrix_b\n",
    "print(\"@ operator\\n\", matrix_product)"
   ]
  },
  {
   "cell_type": "code",
   "execution_count": null,
   "id": "78cb7e4b-d661-4751-b4c9-1b1d2b65cab0",
   "metadata": {},
   "outputs": [],
   "source": []
  }
 ],
 "metadata": {
  "kernelspec": {
   "display_name": "Python 3 (ipykernel)",
   "language": "python",
   "name": "python3"
  },
  "language_info": {
   "codemirror_mode": {
    "name": "ipython",
    "version": 3
   },
   "file_extension": ".py",
   "mimetype": "text/x-python",
   "name": "python",
   "nbconvert_exporter": "python",
   "pygments_lexer": "ipython3",
   "version": "3.11.4"
  }
 },
 "nbformat": 4,
 "nbformat_minor": 5
}
