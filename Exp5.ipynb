{
 "cells": [
  {
   "cell_type": "markdown",
   "id": "1ffccc56-0c86-4825-b311-b069bc7ddef1",
   "metadata": {},
   "source": [
    "### Tensors are multi-dimensional arrays. In the context of linear algebra, vectors are 1-dimensional tensors, matrices are 2-dimensional tensors, and so on. "
   ]
  },
  {
   "cell_type": "markdown",
   "id": "29ab0165-7923-4818-bad0-251f9b2dacaa",
   "metadata": {},
   "source": [
    "Output McCulloch Pitts neural network\r\n"
   ]
  },
  {
   "cell_type": "code",
   "execution_count": 13,
   "id": "80f0e967-20a2-4fb5-8b80-f0fb49d2d8f1",
   "metadata": {},
   "outputs": [
    {
     "name": "stdout",
     "output_type": "stream",
     "text": [
      "[0, 0] -> 0\n",
      "[0, 1] -> 0\n",
      "[1, 0] -> 0\n",
      "[1, 1] -> 1\n"
     ]
    }
   ],
   "source": [
    "class McCullochPittsNeuron:\n",
    "    def __init__(self, weights, threshold):  # Use double underscores for __init__\n",
    "        self.weights = weights\n",
    "        self.threshold = threshold\n",
    "\n",
    "    def activate(self, inputs):\n",
    "        if len(inputs) != len(self.weights):\n",
    "            raise ValueError(\"Number of inputs should match the number of weights\")\n",
    "        result = sum([inputs[i] * self.weights[i] for i in range(len(inputs))])\n",
    "        return 1 if result >= self.threshold else 0\n",
    "\n",
    "def main():\n",
    "    # Define the weights and threshold for the AND gate\n",
    "    and_gate_weights = [1, 1]\n",
    "    and_gate_threshold = 2\n",
    "\n",
    "    # Create a McCulloch-Pitts neuron for the AND gate\n",
    "    and_gate_neuron = McCullochPittsNeuron(and_gate_weights, and_gate_threshold)\n",
    "\n",
    "    # Test the AND gate\n",
    "    inputs = [\n",
    "        [0, 0],\n",
    "        [0, 1],\n",
    "        [1, 0],\n",
    "        [1, 1]\n",
    "    ]\n",
    "\n",
    "    for input_pair in inputs:\n",
    "        output = and_gate_neuron.activate(input_pair)\n",
    "        print(f\"{input_pair} -> {output}\")\n",
    "\n",
    "if __name__ == \"__main__\":\n",
    "    main()\n"
   ]
  },
  {
   "cell_type": "markdown",
   "id": "cbdc979d-098d-4edb-92d2-883eb279b46a",
   "metadata": {},
   "source": [
    "Output of single-layer perceptron"
   ]
  },
  {
   "cell_type": "code",
   "execution_count": 32,
   "id": "929b2060-f372-48ac-ba5b-cd0f32a9a890",
   "metadata": {},
   "outputs": [
    {
     "name": "stdout",
     "output_type": "stream",
     "text": [
      "Converged after 2 epochs.\n",
      "Testing the perceptron:\n",
      "[0 0] -> 0\n",
      "[0 1] -> 1\n",
      "[1 0] -> 1\n",
      "[1 1] -> 1\n"
     ]
    }
   ],
   "source": [
    "import numpy as np\n",
    "\n",
    "class SingleLayerPerceptron:\n",
    "    def __init__(self, input_size):\n",
    "        self.weights = np.random.rand(input_size)\n",
    "        self.bias = np.random.rand() \n",
    "        self.learning_rate = 0.1\n",
    "\n",
    "    def predict(self, inputs):\n",
    "        net_input = np.dot(inputs, self.weights) + self.bias\n",
    "        return 1 if net_input >= 0 else 0 \n",
    "\n",
    "    def train(self, training_data, epochs):\n",
    "        for epoch in range(epochs):\n",
    "            errors = 0\n",
    "            for inputs, label in training_data:\n",
    "                prediction = self.predict(inputs)\n",
    "                error = label - prediction\n",
    "                self.weights += self.learning_rate * error * inputs\n",
    "                self.bias += self.learning_rate * error\n",
    "                errors += abs(error)\n",
    "            if errors == 0:\n",
    "                print(f\"Converged after {epoch + 1} epochs.\")\n",
    "                break\n",
    "\n",
    "def main():\n",
    "    # Sample training data for OR gate\n",
    "    training_data = [\n",
    "        (np.array([0, 0]), 0), \n",
    "        (np.array([0, 1]), 1),\n",
    "        (np.array([1, 0]), 1), \n",
    "        (np.array([1, 1]), 1)\n",
    "    ]\n",
    "\n",
    "    input_size = len(training_data[0][0])\n",
    "    perceptron = SingleLayerPerceptron(input_size)\n",
    "    \n",
    "    epochs = 100\n",
    "    perceptron.train(training_data, epochs)\n",
    "\n",
    "    # Test the trained perceptron\n",
    "    test_data = [ \n",
    "        np.array([0, 0]),\n",
    "        np.array([0, 1]),\n",
    "        np.array([1, 0]), \n",
    "        np.array([1, 1])\n",
    "    ]\n",
    "    \n",
    "    print(\"Testing the perceptron:\")\n",
    "    for inputs in test_data:\n",
    "        prediction = perceptron.predict(inputs) \n",
    "        print(f\"{inputs} -> {prediction}\")\n",
    "\n",
    "if __name__ == \"__main__\":\n",
    "    main()\n"
   ]
  },
  {
   "cell_type": "code",
   "execution_count": null,
   "id": "3f05cb4f-99bc-4fe3-987a-cbcfee60bd5e",
   "metadata": {},
   "outputs": [],
   "source": []
  }
 ],
 "metadata": {
  "kernelspec": {
   "display_name": "Python 3 (ipykernel)",
   "language": "python",
   "name": "python3"
  },
  "language_info": {
   "codemirror_mode": {
    "name": "ipython",
    "version": 3
   },
   "file_extension": ".py",
   "mimetype": "text/x-python",
   "name": "python",
   "nbconvert_exporter": "python",
   "pygments_lexer": "ipython3",
   "version": "3.11.4"
  }
 },
 "nbformat": 4,
 "nbformat_minor": 5
}
