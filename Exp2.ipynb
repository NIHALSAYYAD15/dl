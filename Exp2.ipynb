{
 "cells": [
  {
   "cell_type": "markdown",
   "id": "8de16eb6-70cb-4efb-8eb3-e57d3e4794ed",
   "metadata": {},
   "source": [
    "### Title :- Data Manipulation (Numpy library) Operations Broadcasting Indexing and slicing."
   ]
  },
  {
   "cell_type": "markdown",
   "id": "3c3638fe-b02e-49df-85f7-3ec6b08789f2",
   "metadata": {},
   "source": [
    "Install NumPy library"
   ]
  },
  {
   "cell_type": "code",
   "execution_count": 3,
   "id": "284810f5-9079-439b-8c84-59b057e956df",
   "metadata": {},
   "outputs": [
    {
     "name": "stdout",
     "output_type": "stream",
     "text": [
      "Requirement already satisfied: numpy in c:\\users\\nihal\\appdata\\local\\programs\\python\\python311\\myenv\\env\\lib\\site-packages (1.24.3)Note: you may need to restart the kernel to use updated packages.\n"
     ]
    },
    {
     "name": "stderr",
     "output_type": "stream",
     "text": [
      "\n",
      "[notice] A new release of pip is available: 23.2.1 -> 23.3.1\n",
      "[notice] To update, run: C:\\Users\\nihal\\AppData\\Local\\Programs\\Python\\Python311\\myenv\\env\\Scripts\\python.exe -m pip install --upgrade pip\n"
     ]
    },
    {
     "name": "stdout",
     "output_type": "stream",
     "text": [
      "\n"
     ]
    }
   ],
   "source": [
    "pip install numpy"
   ]
  },
  {
   "cell_type": "markdown",
   "id": "3ebbc7a4-c25b-470e-9273-46cf9ec0b1c9",
   "metadata": {},
   "source": [
    "Creating NumPy Arrays"
   ]
  },
  {
   "cell_type": "code",
   "execution_count": 1,
   "id": "72f5c73a-b05f-4d51-b385-66c04a97bae4",
   "metadata": {},
   "outputs": [
    {
     "name": "stdout",
     "output_type": "stream",
     "text": [
      "Array list \n",
      " [1 2 3 4 5]\n",
      "Array list zeros \n",
      " [[0. 0. 0. 0.]\n",
      " [0. 0. 0. 0.]\n",
      " [0. 0. 0. 0.]]\n",
      "Array list ones \n",
      " [[1. 1. 1.]\n",
      " [1. 1. 1.]]\n",
      "Random Array list \n",
      " [[0.90429254 0.25580482]\n",
      " [0.95841536 0.38848013]]\n"
     ]
    }
   ],
   "source": [
    "import numpy as np\n",
    "# Create a NumPy array from a list\n",
    "arr = np.array([1, 2, 3, 4, 5]) \n",
    "print(\"Array list \\n\", arr)\n",
    "# Create an array of zeros with shape (3, 4) \n",
    "zeros_array = np.zeros((3, 4)) \n",
    "print(\"Array list zeros \\n\", zeros_array)\n",
    "# Create an array of ones with shape (2, 3)\n",
    "ones_array = np.ones((2, 3)) \n",
    "print(\"Array list ones \\n\",ones_array)\n",
    "# Create a random array with shape (2, 2) \n",
    "random_array = np.random.rand(2, 2) \n",
    "print(\"Random Array list \\n\", random_array)"
   ]
  },
  {
   "cell_type": "markdown",
   "id": "529ec894-7ec7-40d2-ac99-5768ad9fd411",
   "metadata": {},
   "source": [
    "Broadcasting"
   ]
  },
  {
   "cell_type": "code",
   "execution_count": 2,
   "id": "505e2ff9-ae13-4f6c-b68f-9d3e95ae0964",
   "metadata": {},
   "outputs": [
    {
     "name": "stdout",
     "output_type": "stream",
     "text": [
      "Broadcasting [2 4 6]\n"
     ]
    }
   ],
   "source": [
    "#Broadcasting example\n",
    "a = np.array([1, 2, 3])\n",
    "scalar = 2\n",
    "result = a * scalar # Broadcasting the scalar to the array [2, 4, 6] \n",
    "print(\"Broadcasting\", result)"
   ]
  },
  {
   "cell_type": "markdown",
   "id": "ec6c2e2e-f667-4702-a56c-2fad3ae02a7a",
   "metadata": {},
   "source": [
    " Array Operations"
   ]
  },
  {
   "cell_type": "code",
   "execution_count": 3,
   "id": "e4e216b9-32e8-4a7c-a758-7f3064940eb9",
   "metadata": {},
   "outputs": [
    {
     "name": "stdout",
     "output_type": "stream",
     "text": [
      "addition [5 7 9]\n",
      "subtraction [-3 -3 -3]\n",
      "multiplication [ 4 10 18]\n",
      "division [0.25 0.4  0.5 ]\n",
      "Matrix Product \n",
      " [[19 22]\n",
      " [43 50]]\n",
      "[10 15 20 25 30]\n",
      "Mean 20.0\n",
      "Median 20.0\n",
      "std Deviation 7.0710678118654755\n"
     ]
    }
   ],
   "source": [
    "#Element-wise arithmetic operations\n",
    "a = np.array([1, 2, 3])\n",
    "b = np.array([4, 5, 6]) \n",
    "print(\"addition\", a + b)\n",
    "print(\"subtraction\", a- b)\n",
    "print(\"multiplication\", a* b)\n",
    "print(\"division\", a / b)\n",
    "\n",
    "#Matrix operations\n",
    "matrix_a = np.array([[1, 2], [3, 4]])\n",
    "matrix_b = np.array([[5, 6], [7, 8]])\n",
    "matrix_product = np.dot (matrix_a, matrix_b)  #Matrix multiplication\n",
    "print(\"Matrix Product \\n\",matrix_product) \n",
    "\n",
    "# Statistical functions\n",
    "data= np.array([10, 15, 20, 25, 30])\n",
    "print(data)\n",
    "mean= np.mean(data)\n",
    "print(\"Mean\", mean)\n",
    "median= np.median(data) \n",
    "print(\"Median\", median)\n",
    "std_deviation = np.std(data)\n",
    "print(\"std Deviation\", std_deviation)"
   ]
  },
  {
   "cell_type": "markdown",
   "id": "000d2e10-4369-4c8a-a6bc-48e0f912ac19",
   "metadata": {},
   "source": [
    " Indexing and Slicing"
   ]
  },
  {
   "cell_type": "code",
   "execution_count": 4,
   "id": "8d04a26f-357f-4eff-964f-20c4956eda4a",
   "metadata": {},
   "outputs": [
    {
     "name": "stdout",
     "output_type": "stream",
     "text": [
      "[0]  10\n",
      "[-1]  50\n"
     ]
    }
   ],
   "source": [
    "arr = np.array([10, 20, 30, 40, 50])\n",
    "#Accessing elements using indexing \n",
    "element = arr[0] # Access the first element (10) \n",
    "print(\"[0] \",element) \n",
    "element_2 = arr[-1] # Access the last element (50)\n",
    "print(\"[-1] \",element_2)"
   ]
  },
  {
   "cell_type": "code",
   "execution_count": 5,
   "id": "056763f2-eb9e-4170-8ffc-448997fb72fb",
   "metadata": {},
   "outputs": [
    {
     "name": "stdout",
     "output_type": "stream",
     "text": [
      "arr[1:4]  [20 30 40]\n",
      "arr[:3]  [10 20 30]\n",
      "arr[2:]  [30 40 50]\n"
     ]
    }
   ],
   "source": [
    "arr = np.array([10, 20, 30, 40, 50])\n",
    "#Slicing\n",
    "slice_1 = arr[1:4] # Get elements from index 1 to index 3 (20, 30, 40)\n",
    "print(\"arr[1:4] \",slice_1)\n",
    "slice_2 = arr[:3] # Get elements from the beginning up to index 2 (10, 20, 30) \n",
    "print(\"arr[:3] \",slice_2)\n",
    "slice_3 = arr[2:] # Get elements from index 2 to the end (30, 40, 50)\n",
    "print(\"arr[2:] \",slice_3)"
   ]
  }
 ],
 "metadata": {
  "kernelspec": {
   "display_name": "Python 3 (ipykernel)",
   "language": "python",
   "name": "python3"
  },
  "language_info": {
   "codemirror_mode": {
    "name": "ipython",
    "version": 3
   },
   "file_extension": ".py",
   "mimetype": "text/x-python",
   "name": "python",
   "nbconvert_exporter": "python",
   "pygments_lexer": "ipython3",
   "version": "3.11.4"
  }
 },
 "nbformat": 4,
 "nbformat_minor": 5
}
